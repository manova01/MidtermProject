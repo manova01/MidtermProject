{
 "cells": [
  {
   "cell_type": "code",
   "execution_count": 1,
   "id": "114b319c",
   "metadata": {},
   "outputs": [],
   "source": [
    "import numpy as np\n",
    "import pandas as pd\n",
    "import seaborn as sns\n",
    "\n",
    "import matplotlib\n",
    "import matplotlib.pyplot as plt\n",
    "import matplotlib.mlab as mlab\n",
    "plt.style.use('ggplot')\n",
    "from matplotlib.pyplot import figure\n",
    "\n",
    "%matplotlib inline\n",
    "matplotlib.rcParams['figure.figsize'] = (12,8)\n",
    "\n",
    "pd.options.mode.chained_assignment = None"
   ]
  },
  {
   "cell_type": "code",
   "execution_count": 2,
   "id": "2185cce6",
   "metadata": {},
   "outputs": [],
   "source": [
    "df = pd.read_csv('Train.csv')"
   ]
  },
  {
   "cell_type": "code",
   "execution_count": 3,
   "id": "8f90b21b",
   "metadata": {},
   "outputs": [
    {
     "data": {
      "text/html": [
       "<div>\n",
       "<style scoped>\n",
       "    .dataframe tbody tr th:only-of-type {\n",
       "        vertical-align: middle;\n",
       "    }\n",
       "\n",
       "    .dataframe tbody tr th {\n",
       "        vertical-align: top;\n",
       "    }\n",
       "\n",
       "    .dataframe thead th {\n",
       "        text-align: right;\n",
       "    }\n",
       "</style>\n",
       "<table border=\"1\" class=\"dataframe\">\n",
       "  <thead>\n",
       "    <tr style=\"text-align: right;\">\n",
       "      <th></th>\n",
       "      <th>ID</th>\n",
       "      <th>Warehouse_block</th>\n",
       "      <th>Mode_of_Shipment</th>\n",
       "      <th>Customer_care_calls</th>\n",
       "      <th>Customer_rating</th>\n",
       "      <th>Cost_of_the_Product</th>\n",
       "      <th>Prior_purchases</th>\n",
       "      <th>Product_importance</th>\n",
       "      <th>Gender</th>\n",
       "      <th>Discount_offered</th>\n",
       "      <th>Weight_in_gms</th>\n",
       "      <th>Reached.on.Time_Y.N</th>\n",
       "    </tr>\n",
       "  </thead>\n",
       "  <tbody>\n",
       "    <tr>\n",
       "      <th>0</th>\n",
       "      <td>1</td>\n",
       "      <td>D</td>\n",
       "      <td>Flight</td>\n",
       "      <td>4</td>\n",
       "      <td>2</td>\n",
       "      <td>177</td>\n",
       "      <td>3</td>\n",
       "      <td>low</td>\n",
       "      <td>F</td>\n",
       "      <td>44</td>\n",
       "      <td>1233</td>\n",
       "      <td>1</td>\n",
       "    </tr>\n",
       "    <tr>\n",
       "      <th>1</th>\n",
       "      <td>2</td>\n",
       "      <td>F</td>\n",
       "      <td>Flight</td>\n",
       "      <td>4</td>\n",
       "      <td>5</td>\n",
       "      <td>216</td>\n",
       "      <td>2</td>\n",
       "      <td>low</td>\n",
       "      <td>M</td>\n",
       "      <td>59</td>\n",
       "      <td>3088</td>\n",
       "      <td>1</td>\n",
       "    </tr>\n",
       "    <tr>\n",
       "      <th>2</th>\n",
       "      <td>3</td>\n",
       "      <td>A</td>\n",
       "      <td>Flight</td>\n",
       "      <td>2</td>\n",
       "      <td>2</td>\n",
       "      <td>183</td>\n",
       "      <td>4</td>\n",
       "      <td>low</td>\n",
       "      <td>M</td>\n",
       "      <td>48</td>\n",
       "      <td>3374</td>\n",
       "      <td>1</td>\n",
       "    </tr>\n",
       "    <tr>\n",
       "      <th>3</th>\n",
       "      <td>4</td>\n",
       "      <td>B</td>\n",
       "      <td>Flight</td>\n",
       "      <td>3</td>\n",
       "      <td>3</td>\n",
       "      <td>176</td>\n",
       "      <td>4</td>\n",
       "      <td>medium</td>\n",
       "      <td>M</td>\n",
       "      <td>10</td>\n",
       "      <td>1177</td>\n",
       "      <td>1</td>\n",
       "    </tr>\n",
       "    <tr>\n",
       "      <th>4</th>\n",
       "      <td>5</td>\n",
       "      <td>C</td>\n",
       "      <td>Flight</td>\n",
       "      <td>2</td>\n",
       "      <td>2</td>\n",
       "      <td>184</td>\n",
       "      <td>3</td>\n",
       "      <td>medium</td>\n",
       "      <td>F</td>\n",
       "      <td>46</td>\n",
       "      <td>2484</td>\n",
       "      <td>1</td>\n",
       "    </tr>\n",
       "  </tbody>\n",
       "</table>\n",
       "</div>"
      ],
      "text/plain": [
       "   ID Warehouse_block Mode_of_Shipment  Customer_care_calls  Customer_rating  \\\n",
       "0   1               D           Flight                    4                2   \n",
       "1   2               F           Flight                    4                5   \n",
       "2   3               A           Flight                    2                2   \n",
       "3   4               B           Flight                    3                3   \n",
       "4   5               C           Flight                    2                2   \n",
       "\n",
       "   Cost_of_the_Product  Prior_purchases Product_importance Gender  \\\n",
       "0                  177                3                low      F   \n",
       "1                  216                2                low      M   \n",
       "2                  183                4                low      M   \n",
       "3                  176                4             medium      M   \n",
       "4                  184                3             medium      F   \n",
       "\n",
       "   Discount_offered  Weight_in_gms  Reached.on.Time_Y.N  \n",
       "0                44           1233                    1  \n",
       "1                59           3088                    1  \n",
       "2                48           3374                    1  \n",
       "3                10           1177                    1  \n",
       "4                46           2484                    1  "
      ]
     },
     "execution_count": 3,
     "metadata": {},
     "output_type": "execute_result"
    }
   ],
   "source": [
    "df.head()"
   ]
  },
  {
   "cell_type": "code",
   "execution_count": 4,
   "id": "f3e43fb2",
   "metadata": {},
   "outputs": [],
   "source": [
    "# Data Cleaning"
   ]
  },
  {
   "cell_type": "code",
   "execution_count": 12,
   "id": "cb6c3c82",
   "metadata": {},
   "outputs": [],
   "source": [
    "#write the columns names in small letter and replace spaces with under score\n",
    "df.columns=df.columns.str.lower().str.replace(' ','_')"
   ]
  },
  {
   "cell_type": "code",
   "execution_count": 6,
   "id": "417fac21",
   "metadata": {},
   "outputs": [
    {
     "name": "stdout",
     "output_type": "stream",
     "text": [
      "id\n",
      "[1 2 3 4 5]\n",
      "10999\n",
      "\n",
      "warehouse_block\n",
      "['D' 'F' 'A' 'B' 'C']\n",
      "5\n",
      "\n",
      "mode_of_shipment\n",
      "['Flight' 'Ship' 'Road']\n",
      "3\n",
      "\n",
      "customer_care_calls\n",
      "[4 2 3 5 6]\n",
      "6\n",
      "\n",
      "customer_rating\n",
      "[2 5 3 1 4]\n",
      "5\n",
      "\n",
      "cost_of_the_product\n",
      "[177 216 183 176 184]\n",
      "215\n",
      "\n",
      "prior_purchases\n",
      "[3 2 4 6 5]\n",
      "8\n",
      "\n",
      "product_importance\n",
      "['low' 'medium' 'high']\n",
      "3\n",
      "\n",
      "gender\n",
      "['F' 'M']\n",
      "2\n",
      "\n",
      "discount_offered\n",
      "[44 59 48 10 46]\n",
      "65\n",
      "\n",
      "weight_in_gms\n",
      "[1233 3088 3374 1177 2484]\n",
      "4034\n",
      "\n",
      "reached.on.time_y.n\n",
      "[1 0]\n",
      "2\n",
      "\n"
     ]
    }
   ],
   "source": [
    "for col in df.columns:\n",
    "    print(col)\n",
    "    print(df[col].unique()[:5])\n",
    "    print(df[col].nunique())\n",
    "    print()"
   ]
  },
  {
   "cell_type": "code",
   "execution_count": 7,
   "id": "d60a3c1a",
   "metadata": {},
   "outputs": [
    {
     "data": {
      "text/plain": [
       "id                      int64\n",
       "warehouse_block        object\n",
       "mode_of_shipment       object\n",
       "customer_care_calls     int64\n",
       "customer_rating         int64\n",
       "cost_of_the_product     int64\n",
       "prior_purchases         int64\n",
       "product_importance     object\n",
       "gender                 object\n",
       "discount_offered        int64\n",
       "weight_in_gms           int64\n",
       "reached.on.time_y.n     int64\n",
       "dtype: object"
      ]
     },
     "execution_count": 7,
     "metadata": {},
     "output_type": "execute_result"
    }
   ],
   "source": [
    "df.dtypes"
   ]
  },
  {
   "cell_type": "code",
   "execution_count": 8,
   "id": "49e10e5d",
   "metadata": {},
   "outputs": [
    {
     "data": {
      "text/plain": [
       "['warehouse_block', 'mode_of_shipment', 'product_importance', 'gender']"
      ]
     },
     "execution_count": 8,
     "metadata": {},
     "output_type": "execute_result"
    }
   ],
   "source": [
    "strings =list(df.dtypes[df.dtypes=='object'].index)\n",
    "strings"
   ]
  },
  {
   "cell_type": "code",
   "execution_count": 9,
   "id": "ec2664d6",
   "metadata": {},
   "outputs": [],
   "source": [
    "for col in strings:\n",
    "    df[col] = df[col].str.lower().str.replace(' ','_')"
   ]
  },
  {
   "cell_type": "code",
   "execution_count": 10,
   "id": "0d104687",
   "metadata": {},
   "outputs": [
    {
     "data": {
      "text/html": [
       "<div>\n",
       "<style scoped>\n",
       "    .dataframe tbody tr th:only-of-type {\n",
       "        vertical-align: middle;\n",
       "    }\n",
       "\n",
       "    .dataframe tbody tr th {\n",
       "        vertical-align: top;\n",
       "    }\n",
       "\n",
       "    .dataframe thead th {\n",
       "        text-align: right;\n",
       "    }\n",
       "</style>\n",
       "<table border=\"1\" class=\"dataframe\">\n",
       "  <thead>\n",
       "    <tr style=\"text-align: right;\">\n",
       "      <th></th>\n",
       "      <th>id</th>\n",
       "      <th>warehouse_block</th>\n",
       "      <th>mode_of_shipment</th>\n",
       "      <th>customer_care_calls</th>\n",
       "      <th>customer_rating</th>\n",
       "      <th>cost_of_the_product</th>\n",
       "      <th>prior_purchases</th>\n",
       "      <th>product_importance</th>\n",
       "      <th>gender</th>\n",
       "      <th>discount_offered</th>\n",
       "      <th>weight_in_gms</th>\n",
       "      <th>reached.on.time_y.n</th>\n",
       "    </tr>\n",
       "  </thead>\n",
       "  <tbody>\n",
       "    <tr>\n",
       "      <th>0</th>\n",
       "      <td>1</td>\n",
       "      <td>d</td>\n",
       "      <td>flight</td>\n",
       "      <td>4</td>\n",
       "      <td>2</td>\n",
       "      <td>177</td>\n",
       "      <td>3</td>\n",
       "      <td>low</td>\n",
       "      <td>f</td>\n",
       "      <td>44</td>\n",
       "      <td>1233</td>\n",
       "      <td>1</td>\n",
       "    </tr>\n",
       "    <tr>\n",
       "      <th>1</th>\n",
       "      <td>2</td>\n",
       "      <td>f</td>\n",
       "      <td>flight</td>\n",
       "      <td>4</td>\n",
       "      <td>5</td>\n",
       "      <td>216</td>\n",
       "      <td>2</td>\n",
       "      <td>low</td>\n",
       "      <td>m</td>\n",
       "      <td>59</td>\n",
       "      <td>3088</td>\n",
       "      <td>1</td>\n",
       "    </tr>\n",
       "    <tr>\n",
       "      <th>2</th>\n",
       "      <td>3</td>\n",
       "      <td>a</td>\n",
       "      <td>flight</td>\n",
       "      <td>2</td>\n",
       "      <td>2</td>\n",
       "      <td>183</td>\n",
       "      <td>4</td>\n",
       "      <td>low</td>\n",
       "      <td>m</td>\n",
       "      <td>48</td>\n",
       "      <td>3374</td>\n",
       "      <td>1</td>\n",
       "    </tr>\n",
       "    <tr>\n",
       "      <th>3</th>\n",
       "      <td>4</td>\n",
       "      <td>b</td>\n",
       "      <td>flight</td>\n",
       "      <td>3</td>\n",
       "      <td>3</td>\n",
       "      <td>176</td>\n",
       "      <td>4</td>\n",
       "      <td>medium</td>\n",
       "      <td>m</td>\n",
       "      <td>10</td>\n",
       "      <td>1177</td>\n",
       "      <td>1</td>\n",
       "    </tr>\n",
       "    <tr>\n",
       "      <th>4</th>\n",
       "      <td>5</td>\n",
       "      <td>c</td>\n",
       "      <td>flight</td>\n",
       "      <td>2</td>\n",
       "      <td>2</td>\n",
       "      <td>184</td>\n",
       "      <td>3</td>\n",
       "      <td>medium</td>\n",
       "      <td>f</td>\n",
       "      <td>46</td>\n",
       "      <td>2484</td>\n",
       "      <td>1</td>\n",
       "    </tr>\n",
       "  </tbody>\n",
       "</table>\n",
       "</div>"
      ],
      "text/plain": [
       "   id warehouse_block mode_of_shipment  customer_care_calls  customer_rating  \\\n",
       "0   1               d           flight                    4                2   \n",
       "1   2               f           flight                    4                5   \n",
       "2   3               a           flight                    2                2   \n",
       "3   4               b           flight                    3                3   \n",
       "4   5               c           flight                    2                2   \n",
       "\n",
       "   cost_of_the_product  prior_purchases product_importance gender  \\\n",
       "0                  177                3                low      f   \n",
       "1                  216                2                low      m   \n",
       "2                  183                4                low      m   \n",
       "3                  176                4             medium      m   \n",
       "4                  184                3             medium      f   \n",
       "\n",
       "   discount_offered  weight_in_gms  reached.on.time_y.n  \n",
       "0                44           1233                    1  \n",
       "1                59           3088                    1  \n",
       "2                48           3374                    1  \n",
       "3                10           1177                    1  \n",
       "4                46           2484                    1  "
      ]
     },
     "execution_count": 10,
     "metadata": {},
     "output_type": "execute_result"
    }
   ],
   "source": [
    "df.head()"
   ]
  },
  {
   "cell_type": "markdown",
   "id": "47881c0d",
   "metadata": {},
   "source": [
    "# EDA"
   ]
  },
  {
   "cell_type": "code",
   "execution_count": 13,
   "id": "286711eb",
   "metadata": {},
   "outputs": [
    {
     "data": {
      "text/plain": [
       "ship      7462\n",
       "flight    1777\n",
       "road      1760\n",
       "Name: mode_of_shipment, dtype: int64"
      ]
     },
     "execution_count": 13,
     "metadata": {},
     "output_type": "execute_result"
    }
   ],
   "source": [
    "df.mode_of_shipment.value_counts()"
   ]
  },
  {
   "cell_type": "code",
   "execution_count": 14,
   "id": "b5b4327e",
   "metadata": {},
   "outputs": [
    {
     "data": {
      "text/plain": [
       "1    0.596691\n",
       "0    0.403309\n",
       "Name: reached_on_time_y_n, dtype: float64"
      ]
     },
     "execution_count": 14,
     "metadata": {},
     "output_type": "execute_result"
    }
   ],
   "source": [
    "df.reached_on_time_y_n.value_counts(normalize = True)"
   ]
  },
  {
   "cell_type": "code",
   "execution_count": 15,
   "id": "38627728",
   "metadata": {},
   "outputs": [
    {
     "data": {
      "text/plain": [
       "<AxesSubplot:xlabel='count', ylabel='mode_of_shipment'>"
      ]
     },
     "execution_count": 15,
     "metadata": {},
     "output_type": "execute_result"
    },
    {
     "data": {
      "image/png": "[encoded data removed]",
      "text/plain": [
       "<Figure size 1200x800 with 1 Axes>"
      ]
     },
     "metadata": {},
     "output_type": "display_data"
    }
   ],
   "source": [
    "# plot between mode_of_shipment and reached_on_time_y_n\n",
    "sns.countplot(y=df['mode_of_shipment'], hue=df['reached_on_time_y_n'])"
   ]
  },
  {
   "cell_type": "code",
   "execution_count": 16,
   "id": "6af1beb3",
   "metadata": {},
   "outputs": [
    {
     "data": {
      "text/plain": [
       "f    3666\n",
       "d    1834\n",
       "a    1833\n",
       "b    1833\n",
       "c    1833\n",
       "Name: warehouse_block, dtype: int64"
      ]
     },
     "execution_count": 16,
     "metadata": {},
     "output_type": "execute_result"
    }
   ],
   "source": [
    "df.warehouse_block.value_counts()"
   ]
  },
  {
   "cell_type": "code",
   "execution_count": 17,
   "id": "468585e4",
   "metadata": {},
   "outputs": [
    {
     "data": {
      "text/plain": [
       "<AxesSubplot:xlabel='count', ylabel='warehouse_block'>"
      ]
     },
     "execution_count": 17,
     "metadata": {},
     "output_type": "execute_result"
    },
    {
     "data": {
      "image/png": "[encoded data removed]",
      "text/plain": [
       "<Figure size 1200x800 with 1 Axes>"
      ]
     },
     "metadata": {},
     "output_type": "display_data"
    }
   ],
   "source": [
    "# plot between warehouse_block and reached_on_time_y_n\n",
    "sns.countplot(y=df['warehouse_block'], hue=df['reached_on_time_y_n'])"
   ]
  },
  {
   "cell_type": "code",
   "execution_count": 18,
   "id": "2015ace3",
   "metadata": {},
   "outputs": [
    {
     "data": {
      "text/plain": [
       "4    3557\n",
       "3    3217\n",
       "5    2328\n",
       "6    1013\n",
       "2     638\n",
       "7     246\n",
       "Name: customer_care_calls, dtype: int64"
      ]
     },
     "execution_count": 18,
     "metadata": {},
     "output_type": "execute_result"
    }
   ],
   "source": [
    "df.customer_care_calls.value_counts()"
   ]
  },
  {
   "cell_type": "code",
   "execution_count": 19,
   "id": "46545e03",
   "metadata": {},
   "outputs": [
    {
     "data": {
      "text/plain": [
       "<AxesSubplot:xlabel='count', ylabel='customer_care_calls'>"
      ]
     },
     "execution_count": 19,
     "metadata": {},
     "output_type": "execute_result"
    },
    {
     "data": {
      "image/png": "[encoded data removed]",
      "text/plain": [
       "<Figure size 1200x800 with 1 Axes>"
      ]
     },
     "metadata": {},
     "output_type": "display_data"
    }
   ],
   "source": [
    "# plot between customer_care_calls and reached_on_time_y_n\n",
    "sns.countplot(y=df['customer_care_calls'], hue=df['reached_on_time_y_n'])"
   ]
  },
  {
   "cell_type": "code",
   "execution_count": 20,
   "id": "ea12f5cd",
   "metadata": {},
   "outputs": [
    {
     "data": {
      "text/plain": [
       "3    2239\n",
       "1    2235\n",
       "4    2189\n",
       "5    2171\n",
       "2    2165\n",
       "Name: customer_rating, dtype: int64"
      ]
     },
     "execution_count": 20,
     "metadata": {},
     "output_type": "execute_result"
    }
   ],
   "source": [
    "df.customer_rating.value_counts()"
   ]
  },
  {
   "cell_type": "code",
   "execution_count": 21,
   "id": "da48e789",
   "metadata": {},
   "outputs": [
    {
     "data": {
      "text/plain": [
       "<AxesSubplot:xlabel='count', ylabel='customer_rating'>"
      ]
     },
     "execution_count": 21,
     "metadata": {},
     "output_type": "execute_result"
    },
    {
     "data": {
      "image/png": "[encoded data removed]",
      "text/plain": [
       "<Figure size 1200x800 with 1 Axes>"
      ]
     },
     "metadata": {},
     "output_type": "display_data"
    }
   ],
   "source": [
    "# plot between customer_rating and reached_on_time_y_n\n",
    "sns.countplot(y=df['customer_rating'], hue=df['reached_on_time_y_n'])"
   ]
  },
  {
   "cell_type": "code",
   "execution_count": 22,
   "id": "7e864e32",
   "metadata": {},
   "outputs": [
    {
     "data": {
      "text/html": [
       "<div>\n",
       "<style scoped>\n",
       "    .dataframe tbody tr th:only-of-type {\n",
       "        vertical-align: middle;\n",
       "    }\n",
       "\n",
       "    .dataframe tbody tr th {\n",
       "        vertical-align: top;\n",
       "    }\n",
       "\n",
       "    .dataframe thead th {\n",
       "        text-align: right;\n",
       "    }\n",
       "</style>\n",
       "<table border=\"1\" class=\"dataframe\">\n",
       "  <thead>\n",
       "    <tr style=\"text-align: right;\">\n",
       "      <th></th>\n",
       "      <th>id</th>\n",
       "      <th>customer_care_calls</th>\n",
       "      <th>customer_rating</th>\n",
       "      <th>cost_of_the_product</th>\n",
       "      <th>prior_purchases</th>\n",
       "      <th>discount_offered</th>\n",
       "      <th>weight_in_gms</th>\n",
       "      <th>reached_on_time_y_n</th>\n",
       "    </tr>\n",
       "  </thead>\n",
       "  <tbody>\n",
       "    <tr>\n",
       "      <th>id</th>\n",
       "      <td>1.000000</td>\n",
       "      <td>0.188998</td>\n",
       "      <td>-0.005722</td>\n",
       "      <td>0.196791</td>\n",
       "      <td>0.145369</td>\n",
       "      <td>-0.598278</td>\n",
       "      <td>0.278312</td>\n",
       "      <td>-0.411822</td>\n",
       "    </tr>\n",
       "    <tr>\n",
       "      <th>customer_care_calls</th>\n",
       "      <td>0.188998</td>\n",
       "      <td>1.000000</td>\n",
       "      <td>0.012209</td>\n",
       "      <td>0.323182</td>\n",
       "      <td>0.180771</td>\n",
       "      <td>-0.130750</td>\n",
       "      <td>-0.276615</td>\n",
       "      <td>-0.067126</td>\n",
       "    </tr>\n",
       "    <tr>\n",
       "      <th>customer_rating</th>\n",
       "      <td>-0.005722</td>\n",
       "      <td>0.012209</td>\n",
       "      <td>1.000000</td>\n",
       "      <td>0.009270</td>\n",
       "      <td>0.013179</td>\n",
       "      <td>-0.003124</td>\n",
       "      <td>-0.001897</td>\n",
       "      <td>0.013119</td>\n",
       "    </tr>\n",
       "    <tr>\n",
       "      <th>cost_of_the_product</th>\n",
       "      <td>0.196791</td>\n",
       "      <td>0.323182</td>\n",
       "      <td>0.009270</td>\n",
       "      <td>1.000000</td>\n",
       "      <td>0.123676</td>\n",
       "      <td>-0.138312</td>\n",
       "      <td>-0.132604</td>\n",
       "      <td>-0.073587</td>\n",
       "    </tr>\n",
       "    <tr>\n",
       "      <th>prior_purchases</th>\n",
       "      <td>0.145369</td>\n",
       "      <td>0.180771</td>\n",
       "      <td>0.013179</td>\n",
       "      <td>0.123676</td>\n",
       "      <td>1.000000</td>\n",
       "      <td>-0.082769</td>\n",
       "      <td>-0.168213</td>\n",
       "      <td>-0.055515</td>\n",
       "    </tr>\n",
       "    <tr>\n",
       "      <th>discount_offered</th>\n",
       "      <td>-0.598278</td>\n",
       "      <td>-0.130750</td>\n",
       "      <td>-0.003124</td>\n",
       "      <td>-0.138312</td>\n",
       "      <td>-0.082769</td>\n",
       "      <td>1.000000</td>\n",
       "      <td>-0.376067</td>\n",
       "      <td>0.397108</td>\n",
       "    </tr>\n",
       "    <tr>\n",
       "      <th>weight_in_gms</th>\n",
       "      <td>0.278312</td>\n",
       "      <td>-0.276615</td>\n",
       "      <td>-0.001897</td>\n",
       "      <td>-0.132604</td>\n",
       "      <td>-0.168213</td>\n",
       "      <td>-0.376067</td>\n",
       "      <td>1.000000</td>\n",
       "      <td>-0.268793</td>\n",
       "    </tr>\n",
       "    <tr>\n",
       "      <th>reached_on_time_y_n</th>\n",
       "      <td>-0.411822</td>\n",
       "      <td>-0.067126</td>\n",
       "      <td>0.013119</td>\n",
       "      <td>-0.073587</td>\n",
       "      <td>-0.055515</td>\n",
       "      <td>0.397108</td>\n",
       "      <td>-0.268793</td>\n",
       "      <td>1.000000</td>\n",
       "    </tr>\n",
       "  </tbody>\n",
       "</table>\n",
       "</div>"
      ],
      "text/plain": [
       "                           id  customer_care_calls  customer_rating  \\\n",
       "id                   1.000000             0.188998        -0.005722   \n",
       "customer_care_calls  0.188998             1.000000         0.012209   \n",
       "customer_rating     -0.005722             0.012209         1.000000   \n",
       "cost_of_the_product  0.196791             0.323182         0.009270   \n",
       "prior_purchases      0.145369             0.180771         0.013179   \n",
       "discount_offered    -0.598278            -0.130750        -0.003124   \n",
       "weight_in_gms        0.278312            -0.276615        -0.001897   \n",
       "reached_on_time_y_n -0.411822            -0.067126         0.013119   \n",
       "\n",
       "                     cost_of_the_product  prior_purchases  discount_offered  \\\n",
       "id                              0.196791         0.145369         -0.598278   \n",
       "customer_care_calls             0.323182         0.180771         -0.130750   \n",
       "customer_rating                 0.009270         0.013179         -0.003124   \n",
       "cost_of_the_product             1.000000         0.123676         -0.138312   \n",
       "prior_purchases                 0.123676         1.000000         -0.082769   \n",
       "discount_offered               -0.138312        -0.082769          1.000000   \n",
       "weight_in_gms                  -0.132604        -0.168213         -0.376067   \n",
       "reached_on_time_y_n            -0.073587        -0.055515          0.397108   \n",
       "\n",
       "                     weight_in_gms  reached_on_time_y_n  \n",
       "id                        0.278312            -0.411822  \n",
       "customer_care_calls      -0.276615            -0.067126  \n",
       "customer_rating          -0.001897             0.013119  \n",
       "cost_of_the_product      -0.132604            -0.073587  \n",
       "prior_purchases          -0.168213            -0.055515  \n",
       "discount_offered         -0.376067             0.397108  \n",
       "weight_in_gms             1.000000            -0.268793  \n",
       "reached_on_time_y_n      -0.268793             1.000000  "
      ]
     },
     "execution_count": 22,
     "metadata": {},
     "output_type": "execute_result"
    }
   ],
   "source": [
    "df.corr(method ='pearson')"
   ]
  },
  {
   "cell_type": "code",
   "execution_count": 23,
   "id": "2f6f7367",
   "metadata": {},
   "outputs": [
    {
     "data": {
      "image/png": "[encoded data removed]",
      "text/plain": [
       "<Figure size 1200x800 with 2 Axes>"
      ]
     },
     "metadata": {},
     "output_type": "display_data"
    }
   ],
   "source": [
    "#Checking for corrolation\n",
    "corrolation_matrix=df.corr(method ='pearson')\n",
    "\n",
    "sns.heatmap(corrolation_matrix,annot=True)\n",
    "plt.title('Corrolation reached_on_time_y_n')\n",
    "plt.xlabel('Features')\n",
    "plt.ylabel('Features')\n",
    "plt.show()"
   ]
  },
  {
   "cell_type": "markdown",
   "id": "32aed40f",
   "metadata": {},
   "source": [
    "# Setting up Validation Frame Work"
   ]
  },
  {
   "cell_type": "code",
   "execution_count": 24,
   "id": "630ee8ab",
   "metadata": {},
   "outputs": [],
   "source": [
    "# perfom train/validation/test using sklearn\n",
    "from sklearn.model_selection import train_test_split"
   ]
  },
  {
   "cell_type": "code",
   "execution_count": 25,
   "id": "85b867a1",
   "metadata": {},
   "outputs": [],
   "source": [
    "# divide the data into train,validation,test\n",
    "df_full_train, df_test =train_test_split(df, test_size = 0.2, random_state=42 )"
   ]
  },
  {
   "cell_type": "code",
   "execution_count": 26,
   "id": "b56d6c75",
   "metadata": {},
   "outputs": [
    {
     "data": {
      "text/plain": [
       "(8799, 2200)"
      ]
     },
     "execution_count": 26,
     "metadata": {},
     "output_type": "execute_result"
    }
   ],
   "source": [
    "len(df_full_train), len(df_test)"
   ]
  },
  {
   "cell_type": "code",
   "execution_count": 27,
   "id": "29e77a52",
   "metadata": {},
   "outputs": [],
   "source": [
    "df_train, df_val = train_test_split(df_full_train, test_size=0.25, random_state=42)"
   ]
  },
  {
   "cell_type": "code",
   "execution_count": 28,
   "id": "1daf767e",
   "metadata": {},
   "outputs": [
    {
     "data": {
      "text/plain": [
       "(6599, 2200, 2200)"
      ]
     },
     "execution_count": 28,
     "metadata": {},
     "output_type": "execute_result"
    }
   ],
   "source": [
    "len(df_train), len(df_val), len(df_test)"
   ]
  },
  {
   "cell_type": "code",
   "execution_count": 29,
   "id": "6703ba7b",
   "metadata": {},
   "outputs": [],
   "source": [
    "df_train = df_train.reset_index(drop=True)\n",
    "df_val = df_val.reset_index(drop=True)\n",
    "df_test = df_test.reset_index(drop=True)"
   ]
  },
  {
   "cell_type": "code",
   "execution_count": 30,
   "id": "d416dd54",
   "metadata": {},
   "outputs": [],
   "source": [
    "y_train = df_train.reached_on_time_y_n.values\n",
    "y_val = df_val.reached_on_time_y_n.values\n",
    "y_test = df_test.reached_on_time_y_n.values"
   ]
  },
  {
   "cell_type": "code",
   "execution_count": 31,
   "id": "a7852e83",
   "metadata": {},
   "outputs": [],
   "source": [
    "del df_train['reached_on_time_y_n']\n",
    "del df_test['reached_on_time_y_n']\n",
    "del df_val['reached_on_time_y_n']"
   ]
  },
  {
   "cell_type": "markdown",
   "id": "0b9459c8",
   "metadata": {},
   "source": [
    "# Mutual Informaton"
   ]
  },
  {
   "cell_type": "code",
   "execution_count": 32,
   "id": "50e2b288",
   "metadata": {},
   "outputs": [],
   "source": [
    "# mutual information : concept from information theory that tells us how much we can learn about one variable if we know\n",
    "#the value of another\n",
    "from sklearn.metrics import mutual_info_score"
   ]
  },
  {
   "cell_type": "code",
   "execution_count": 33,
   "id": "b2c2e4ce",
   "metadata": {},
   "outputs": [
    {
     "data": {
      "text/plain": [
       "0.0006494208852182715"
      ]
     },
     "execution_count": 33,
     "metadata": {},
     "output_type": "execute_result"
    }
   ],
   "source": [
    "mutual_info_score(df_full_train.reached_on_time_y_n, df_full_train.product_importance)"
   ]
  },
  {
   "cell_type": "code",
   "execution_count": 34,
   "id": "1ca29bac",
   "metadata": {},
   "outputs": [],
   "source": [
    "# apply mutual info to the whole data\n",
    "def mutual_info_reached_on_time_y_n_score(series):\n",
    "    return mutual_info_score(series, df_full_train.reached_on_time_y_n)"
   ]
  },
  {
   "cell_type": "code",
   "execution_count": 35,
   "id": "076f814c",
   "metadata": {},
   "outputs": [],
   "source": [
    "mi = df_full_train.apply(mutual_info_reached_on_time_y_n_score)"
   ]
  },
  {
   "cell_type": "code",
   "execution_count": 36,
   "id": "e599df5c",
   "metadata": {},
   "outputs": [
    {
     "data": {
      "text/plain": [
       "reached_on_time_y_n    0.673985\n",
       "id                     0.673985\n",
       "weight_in_gms          0.317468\n",
       "discount_offered       0.149471\n",
       "cost_of_the_product    0.016235\n",
       "prior_purchases        0.006218\n",
       "customer_care_calls    0.002896\n",
       "product_importance     0.000649\n",
       "customer_rating        0.000283\n",
       "warehouse_block        0.000182\n",
       "mode_of_shipment       0.000045\n",
       "gender                 0.000003\n",
       "dtype: float64"
      ]
     },
     "execution_count": 36,
     "metadata": {},
     "output_type": "execute_result"
    }
   ],
   "source": [
    "# sort by des\n",
    "mi.sort_values(ascending = False)"
   ]
  },
  {
   "cell_type": "markdown",
   "id": "e1f8f3a9",
   "metadata": {},
   "source": [
    "# One hot Encoding"
   ]
  },
  {
   "cell_type": "code",
   "execution_count": 37,
   "id": "a7ac8a6c",
   "metadata": {},
   "outputs": [],
   "source": [
    "# use one hot encoding for categorical variables\n",
    "from sklearn.feature_extraction import DictVectorizer"
   ]
  },
  {
   "cell_type": "code",
   "execution_count": 38,
   "id": "703e35de",
   "metadata": {},
   "outputs": [],
   "source": [
    "train_dicts = df_train.to_dict(orient='records')"
   ]
  },
  {
   "cell_type": "code",
   "execution_count": 39,
   "id": "fd987290",
   "metadata": {},
   "outputs": [
    {
     "data": {
      "text/plain": [
       "{'id': 1488,\n",
       " 'warehouse_block': 'f',\n",
       " 'mode_of_shipment': 'road',\n",
       " 'customer_care_calls': 6,\n",
       " 'customer_rating': 1,\n",
       " 'cost_of_the_product': 219,\n",
       " 'prior_purchases': 6,\n",
       " 'product_importance': 'low',\n",
       " 'gender': 'f',\n",
       " 'discount_offered': 10,\n",
       " 'weight_in_gms': 2385}"
      ]
     },
     "execution_count": 39,
     "metadata": {},
     "output_type": "execute_result"
    }
   ],
   "source": [
    "train_dicts[0]"
   ]
  },
  {
   "cell_type": "code",
   "execution_count": 40,
   "id": "275baa48",
   "metadata": {},
   "outputs": [],
   "source": [
    "dv = DictVectorizer(sparse=False)"
   ]
  },
  {
   "cell_type": "code",
   "execution_count": 41,
   "id": "d52a3837",
   "metadata": {},
   "outputs": [],
   "source": [
    "X_train = dv.fit_transform(train_dicts)"
   ]
  },
  {
   "cell_type": "code",
   "execution_count": 42,
   "id": "ee6fe06b",
   "metadata": {},
   "outputs": [],
   "source": [
    "val_dicts = df_val.to_dict(orient='records')"
   ]
  },
  {
   "cell_type": "code",
   "execution_count": 43,
   "id": "81333f2b",
   "metadata": {},
   "outputs": [],
   "source": [
    "X_val = dv.transform(val_dicts)"
   ]
  },
  {
   "cell_type": "markdown",
   "id": "7ec9bc9b",
   "metadata": {},
   "source": [
    "# Logistic Regression"
   ]
  },
  {
   "cell_type": "code",
   "execution_count": 44,
   "id": "b005fd1f",
   "metadata": {},
   "outputs": [],
   "source": [
    "from sklearn.linear_model import LogisticRegression"
   ]
  },
  {
   "cell_type": "code",
   "execution_count": 45,
   "id": "c007e4e9",
   "metadata": {},
   "outputs": [],
   "source": [
    "model = LogisticRegression(solver='liblinear', C=10, max_iter=1000, random_state=42)"
   ]
  },
  {
   "cell_type": "code",
   "execution_count": 46,
   "id": "ef25a1b0",
   "metadata": {},
   "outputs": [
    {
     "data": {
      "text/plain": [
       "LogisticRegression(C=10, max_iter=1000, random_state=42, solver='liblinear')"
      ]
     },
     "execution_count": 46,
     "metadata": {},
     "output_type": "execute_result"
    }
   ],
   "source": [
    "model.fit(X_train, y_train)"
   ]
  },
  {
   "cell_type": "code",
   "execution_count": 47,
   "id": "3343d775",
   "metadata": {},
   "outputs": [
    {
     "data": {
      "text/plain": [
       "0.6315708252169328"
      ]
     },
     "execution_count": 47,
     "metadata": {},
     "output_type": "execute_result"
    }
   ],
   "source": [
    "model.intercept_[0]"
   ]
  },
  {
   "cell_type": "code",
   "execution_count": 48,
   "id": "0a0009ad",
   "metadata": {},
   "outputs": [
    {
     "data": {
      "text/plain": [
       "array([-0.   , -0.04 ,  0.018,  0.098,  0.301,  0.33 , -0.   ,  0.257,\n",
       "        0.159,  0.216, -0.051,  0.272,  0.224,  0.135,  0.048,  0.148,\n",
       "        0.155,  0.152,  0.129, -0.   ])"
      ]
     },
     "execution_count": 48,
     "metadata": {},
     "output_type": "execute_result"
    }
   ],
   "source": [
    "# this is our w(weight)\n",
    "model.coef_[0].round(3)"
   ]
  },
  {
   "cell_type": "code",
   "execution_count": 49,
   "id": "98c2ea96",
   "metadata": {},
   "outputs": [
    {
     "data": {
      "text/plain": [
       "array([1, 1, 1, ..., 0, 1, 0], dtype=int64)"
      ]
     },
     "execution_count": 49,
     "metadata": {},
     "output_type": "execute_result"
    }
   ],
   "source": [
    "# hard prediction predict 0 and 1\n",
    "model.predict(X_train)"
   ]
  },
  {
   "cell_type": "code",
   "execution_count": 50,
   "id": "671ee727",
   "metadata": {},
   "outputs": [
    {
     "data": {
      "text/plain": [
       "array([[0.2284357 , 0.7715643 ],\n",
       "       [0.03509553, 0.96490447],\n",
       "       [0.00119505, 0.99880495],\n",
       "       ...,\n",
       "       [0.5990088 , 0.4009912 ],\n",
       "       [0.42930345, 0.57069655],\n",
       "       [0.54459998, 0.45540002]])"
      ]
     },
     "execution_count": 50,
     "metadata": {},
     "output_type": "execute_result"
    }
   ],
   "source": [
    "# soft probability predict likelyhood of churning\n",
    "model.predict_proba(X_train)"
   ]
  },
  {
   "cell_type": "code",
   "execution_count": 51,
   "id": "4075597e",
   "metadata": {},
   "outputs": [],
   "source": [
    "# using it on valitaton dataset\n",
    "y_pred =model.predict_proba(X_val)[:,1]"
   ]
  },
  {
   "cell_type": "code",
   "execution_count": 52,
   "id": "cbda292e",
   "metadata": {},
   "outputs": [],
   "source": [
    "reached_on_time_y_n_decision = (y_pred >= 0.5)"
   ]
  },
  {
   "cell_type": "code",
   "execution_count": 53,
   "id": "2e0255f4",
   "metadata": {},
   "outputs": [],
   "source": [
    "# check the accuracy of the model\n",
    "accuracy = (y_val == reached_on_time_y_n_decision).mean()"
   ]
  },
  {
   "cell_type": "code",
   "execution_count": 54,
   "id": "56a1beff",
   "metadata": {},
   "outputs": [
    {
     "name": "stdout",
     "output_type": "stream",
     "text": [
      "0.65\n"
     ]
    }
   ],
   "source": [
    "print(round(accuracy,2))"
   ]
  },
  {
   "cell_type": "code",
   "execution_count": 55,
   "id": "ee003931",
   "metadata": {},
   "outputs": [],
   "source": [
    "df_pred = pd.DataFrame()\n",
    "df_pred['probability'] = y_pred\n",
    "df_pred['prediction'] =reached_on_time_y_n_decision.astype(int)\n",
    "df_pred['actual'] = y_val"
   ]
  },
  {
   "cell_type": "code",
   "execution_count": 56,
   "id": "f18dc713",
   "metadata": {},
   "outputs": [],
   "source": [
    "df_pred['correct'] = df_pred.prediction == df_pred.actual"
   ]
  },
  {
   "cell_type": "code",
   "execution_count": 57,
   "id": "d1d3ab1f",
   "metadata": {},
   "outputs": [
    {
     "data": {
      "text/html": [
       "<div>\n",
       "<style scoped>\n",
       "    .dataframe tbody tr th:only-of-type {\n",
       "        vertical-align: middle;\n",
       "    }\n",
       "\n",
       "    .dataframe tbody tr th {\n",
       "        vertical-align: top;\n",
       "    }\n",
       "\n",
       "    .dataframe thead th {\n",
       "        text-align: right;\n",
       "    }\n",
       "</style>\n",
       "<table border=\"1\" class=\"dataframe\">\n",
       "  <thead>\n",
       "    <tr style=\"text-align: right;\">\n",
       "      <th></th>\n",
       "      <th>probability</th>\n",
       "      <th>prediction</th>\n",
       "      <th>actual</th>\n",
       "      <th>correct</th>\n",
       "    </tr>\n",
       "  </thead>\n",
       "  <tbody>\n",
       "    <tr>\n",
       "      <th>0</th>\n",
       "      <td>0.855576</td>\n",
       "      <td>1</td>\n",
       "      <td>1</td>\n",
       "      <td>True</td>\n",
       "    </tr>\n",
       "    <tr>\n",
       "      <th>1</th>\n",
       "      <td>0.930877</td>\n",
       "      <td>1</td>\n",
       "      <td>1</td>\n",
       "      <td>True</td>\n",
       "    </tr>\n",
       "    <tr>\n",
       "      <th>2</th>\n",
       "      <td>0.456537</td>\n",
       "      <td>0</td>\n",
       "      <td>1</td>\n",
       "      <td>False</td>\n",
       "    </tr>\n",
       "    <tr>\n",
       "      <th>3</th>\n",
       "      <td>0.381081</td>\n",
       "      <td>0</td>\n",
       "      <td>1</td>\n",
       "      <td>False</td>\n",
       "    </tr>\n",
       "    <tr>\n",
       "      <th>4</th>\n",
       "      <td>0.980661</td>\n",
       "      <td>1</td>\n",
       "      <td>1</td>\n",
       "      <td>True</td>\n",
       "    </tr>\n",
       "    <tr>\n",
       "      <th>...</th>\n",
       "      <td>...</td>\n",
       "      <td>...</td>\n",
       "      <td>...</td>\n",
       "      <td>...</td>\n",
       "    </tr>\n",
       "    <tr>\n",
       "      <th>2195</th>\n",
       "      <td>0.832994</td>\n",
       "      <td>1</td>\n",
       "      <td>1</td>\n",
       "      <td>True</td>\n",
       "    </tr>\n",
       "    <tr>\n",
       "      <th>2196</th>\n",
       "      <td>0.618617</td>\n",
       "      <td>1</td>\n",
       "      <td>0</td>\n",
       "      <td>False</td>\n",
       "    </tr>\n",
       "    <tr>\n",
       "      <th>2197</th>\n",
       "      <td>0.231909</td>\n",
       "      <td>0</td>\n",
       "      <td>1</td>\n",
       "      <td>False</td>\n",
       "    </tr>\n",
       "    <tr>\n",
       "      <th>2198</th>\n",
       "      <td>0.990815</td>\n",
       "      <td>1</td>\n",
       "      <td>1</td>\n",
       "      <td>True</td>\n",
       "    </tr>\n",
       "    <tr>\n",
       "      <th>2199</th>\n",
       "      <td>0.357255</td>\n",
       "      <td>0</td>\n",
       "      <td>1</td>\n",
       "      <td>False</td>\n",
       "    </tr>\n",
       "  </tbody>\n",
       "</table>\n",
       "<p>2200 rows × 4 columns</p>\n",
       "</div>"
      ],
      "text/plain": [
       "      probability  prediction  actual  correct\n",
       "0        0.855576           1       1     True\n",
       "1        0.930877           1       1     True\n",
       "2        0.456537           0       1    False\n",
       "3        0.381081           0       1    False\n",
       "4        0.980661           1       1     True\n",
       "...           ...         ...     ...      ...\n",
       "2195     0.832994           1       1     True\n",
       "2196     0.618617           1       0    False\n",
       "2197     0.231909           0       1    False\n",
       "2198     0.990815           1       1     True\n",
       "2199     0.357255           0       1    False\n",
       "\n",
       "[2200 rows x 4 columns]"
      ]
     },
     "execution_count": 57,
     "metadata": {},
     "output_type": "execute_result"
    }
   ],
   "source": [
    "df_pred"
   ]
  },
  {
   "cell_type": "code",
   "execution_count": 58,
   "id": "86c4cd28",
   "metadata": {},
   "outputs": [
    {
     "data": {
      "text/plain": [
       "1420"
      ]
     },
     "execution_count": 58,
     "metadata": {},
     "output_type": "execute_result"
    }
   ],
   "source": [
    "(y_val == reached_on_time_y_n_decision).sum()"
   ]
  },
  {
   "cell_type": "code",
   "execution_count": 59,
   "id": "03aa7e2b",
   "metadata": {},
   "outputs": [
    {
     "data": {
      "text/plain": [
       "2200"
      ]
     },
     "execution_count": 59,
     "metadata": {},
     "output_type": "execute_result"
    }
   ],
   "source": [
    "len(X_val)"
   ]
  },
  {
   "cell_type": "code",
   "execution_count": 60,
   "id": "c6aa87ed",
   "metadata": {},
   "outputs": [
    {
     "data": {
      "text/plain": [
       "0.6454545454545455"
      ]
     },
     "execution_count": 60,
     "metadata": {},
     "output_type": "execute_result"
    }
   ],
   "source": [
    "1420/2200"
   ]
  },
  {
   "cell_type": "code",
   "execution_count": 61,
   "id": "2323d6f6",
   "metadata": {
    "scrolled": true
   },
   "outputs": [
    {
     "name": "stdout",
     "output_type": "stream",
     "text": [
      "0.000.593\n",
      "0.050.593\n",
      "0.100.593\n",
      "0.150.593\n",
      "0.200.591\n",
      "0.250.593\n",
      "0.300.597\n",
      "0.350.604\n",
      "0.400.625\n",
      "0.450.640\n",
      "0.500.645\n",
      "0.550.640\n",
      "0.600.653\n",
      "0.650.659\n",
      "0.700.659\n",
      "0.750.648\n",
      "0.800.634\n",
      "0.850.619\n",
      "0.900.604\n",
      "0.950.578\n",
      "1.000.407\n"
     ]
    }
   ],
   "source": [
    "thresholds = np.linspace(0, 1,21)\n",
    "\n",
    "scores= []\n",
    "for t in thresholds:\n",
    "    reached_on_time_y_n_decision =(y_pred >=t)\n",
    "    score = (y_val == reached_on_time_y_n_decision).mean()\n",
    "    print('%.2f%.3f'%(t,score))\n",
    "    scores.append(score)"
   ]
  },
  {
   "cell_type": "code",
   "execution_count": 62,
   "id": "9b65dcb8",
   "metadata": {},
   "outputs": [
    {
     "data": {
      "text/plain": [
       "[<matplotlib.lines.Line2D at 0x239c7072c70>]"
      ]
     },
     "execution_count": 62,
     "metadata": {},
     "output_type": "execute_result"
    },
    {
     "data": {
      "image/png": "[encoded data removed]",
      "text/plain": [
       "<Figure size 1200x800 with 1 Axes>"
      ]
     },
     "metadata": {},
     "output_type": "display_data"
    }
   ],
   "source": [
    "plt.plot(thresholds, scores)"
   ]
  },
  {
   "cell_type": "code",
   "execution_count": 63,
   "id": "2e4eeb31",
   "metadata": {},
   "outputs": [],
   "source": [
    "from sklearn.metrics import accuracy_score"
   ]
  },
  {
   "cell_type": "code",
   "execution_count": 64,
   "id": "e025bd87",
   "metadata": {},
   "outputs": [
    {
     "data": {
      "text/plain": [
       "0.6586363636363637"
      ]
     },
     "execution_count": 64,
     "metadata": {},
     "output_type": "execute_result"
    }
   ],
   "source": [
    "accuracy_score(y_val,y_pred >=0.65)"
   ]
  },
  {
   "cell_type": "code",
   "execution_count": 65,
   "id": "123754c4",
   "metadata": {},
   "outputs": [],
   "source": [
    "from sklearn.linear_model import Ridge\n",
    "from sklearn.metrics import mean_squared_error\n",
    "from math import sqrt"
   ]
  },
  {
   "cell_type": "code",
   "execution_count": 66,
   "id": "d08a0ccf",
   "metadata": {},
   "outputs": [],
   "source": [
    "alpha_values = [0, 0.01, 0.1, 1, 10]"
   ]
  },
  {
   "cell_type": "code",
   "execution_count": 67,
   "id": "bd861c14",
   "metadata": {},
   "outputs": [],
   "source": [
    "rmse_score = {}"
   ]
  },
  {
   "cell_type": "code",
   "execution_count": 68,
   "id": "c12c22fd",
   "metadata": {},
   "outputs": [],
   "source": [
    "for alpha in alpha_values:\n",
    "    model = Ridge(alpha=alpha,solver='sag', random_state=42)\n",
    "    model.fit(X_train, y_train)"
   ]
  },
  {
   "cell_type": "code",
   "execution_count": 69,
   "id": "df0e01f0",
   "metadata": {},
   "outputs": [],
   "source": [
    "y_pred = model.predict(X_val)"
   ]
  },
  {
   "cell_type": "code",
   "execution_count": 70,
   "id": "b84e645d",
   "metadata": {},
   "outputs": [],
   "source": [
    "rmse =round(sqrt(mean_squared_error(y_val,y_pred)),3)\n",
    "rmse_score[alpha]= rmse"
   ]
  },
  {
   "cell_type": "code",
   "execution_count": 71,
   "id": "0324cd42",
   "metadata": {},
   "outputs": [
    {
     "name": "stdout",
     "output_type": "stream",
     "text": [
      "Alpha=10: RMSE =0.441\n"
     ]
    }
   ],
   "source": [
    "for alpha, rmse in rmse_score.items():\n",
    "    print(f'Alpha={alpha}: RMSE ={rmse}')"
   ]
  },
  {
   "cell_type": "code",
   "execution_count": 72,
   "id": "69fc92ba",
   "metadata": {},
   "outputs": [],
   "source": [
    "from sklearn.metrics import precision_score, recall_score, f1_score\n",
    "import matplotlib.pyplot as plt"
   ]
  },
  {
   "cell_type": "code",
   "execution_count": 73,
   "id": "d0d299ea",
   "metadata": {},
   "outputs": [],
   "source": [
    "actual_positive=(y_val==1)\n",
    "\n",
    "actual_negative=(y_val==0)"
   ]
  },
  {
   "cell_type": "code",
   "execution_count": 74,
   "id": "27299249",
   "metadata": {},
   "outputs": [
    {
     "data": {
      "text/plain": [
       "2200"
      ]
     },
     "execution_count": 74,
     "metadata": {},
     "output_type": "execute_result"
    }
   ],
   "source": [
    "len(y_val)"
   ]
  },
  {
   "cell_type": "code",
   "execution_count": 75,
   "id": "e7eee77b",
   "metadata": {},
   "outputs": [
    {
     "data": {
      "text/plain": [
       "0.4068181818181818"
      ]
     },
     "execution_count": 75,
     "metadata": {},
     "output_type": "execute_result"
    }
   ],
   "source": [
    "(y_val == reached_on_time_y_n_decision).mean()"
   ]
  },
  {
   "cell_type": "code",
   "execution_count": 76,
   "id": "b5b16ae2",
   "metadata": {},
   "outputs": [
    {
     "data": {
      "text/plain": [
       "895"
      ]
     },
     "execution_count": 76,
     "metadata": {},
     "output_type": "execute_result"
    }
   ],
   "source": [
    "(y_val == reached_on_time_y_n_decision).sum()"
   ]
  },
  {
   "cell_type": "code",
   "execution_count": 77,
   "id": "a15eadcb",
   "metadata": {},
   "outputs": [],
   "source": [
    "t=0.5\n",
    "predict_positive = (y_pred >=t)\n",
    "predict_negative = (y_pred < t)"
   ]
  },
  {
   "cell_type": "code",
   "execution_count": 78,
   "id": "40286e02",
   "metadata": {},
   "outputs": [],
   "source": [
    "tp = (actual_positive & predict_positive).sum()\n",
    "tn = (predict_negative & actual_negative).sum()"
   ]
  },
  {
   "cell_type": "code",
   "execution_count": 79,
   "id": "86875642",
   "metadata": {},
   "outputs": [],
   "source": [
    "fp = (predict_positive & actual_negative).sum()\n",
    "fn = (predict_negative & actual_positive).sum()"
   ]
  },
  {
   "cell_type": "code",
   "execution_count": 80,
   "id": "81798369",
   "metadata": {},
   "outputs": [
    {
     "data": {
      "text/plain": [
       "(880, 554, 341, 425)"
      ]
     },
     "execution_count": 80,
     "metadata": {},
     "output_type": "execute_result"
    }
   ],
   "source": [
    "tp, tn, fp, fn"
   ]
  },
  {
   "cell_type": "code",
   "execution_count": 81,
   "id": "a7602598",
   "metadata": {},
   "outputs": [
    {
     "data": {
      "text/plain": [
       "0.7207207207207207"
      ]
     },
     "execution_count": 81,
     "metadata": {},
     "output_type": "execute_result"
    }
   ],
   "source": [
    "p = tp / (tp + fp)\n",
    "p"
   ]
  },
  {
   "cell_type": "code",
   "execution_count": 82,
   "id": "4bbf1d9f",
   "metadata": {},
   "outputs": [
    {
     "data": {
      "text/plain": [
       "0.6743295019157088"
      ]
     },
     "execution_count": 82,
     "metadata": {},
     "output_type": "execute_result"
    }
   ],
   "source": [
    "r = tp / (tp + fn)\n",
    "r"
   ]
  },
  {
   "cell_type": "code",
   "execution_count": 83,
   "id": "33d96dac",
   "metadata": {},
   "outputs": [],
   "source": [
    "scores =  []\n",
    "thresholds = np.arange(0.0, 1.0 , 0.01)\n",
    "for t in thresholds:\n",
    "    actual_positive=(y_val==1)\n",
    "    actual_negative=(y_val==0)\n",
    "    \n",
    "    predict_positive = (y_pred >=t)\n",
    "    predict_negative = (y_pred < t)\n",
    "    \n",
    "    tp = (actual_positive & predict_positive).sum()\n",
    "    tn = (predict_negative & actual_negative).sum()\n",
    "    \n",
    "    fp = (predict_positive & actual_negative).sum()\n",
    "    fn = (predict_negative & actual_positive).sum()\n",
    "    r = tp / (tp + fn)\n",
    "    p = tp / (tp + fp)\n",
    "    \n",
    "    f1 = 2 * (p*r)/(p+r) \n",
    "    \n",
    "    scores.append((t, tp, tn, fp, fn,p,r,f1))"
   ]
  },
  {
   "cell_type": "code",
   "execution_count": 84,
   "id": "e02ba4d8",
   "metadata": {},
   "outputs": [],
   "source": [
    "columns = ['threshold', 'tp', 'tn', 'fp', 'fn', 'r', 'p','f1']\n",
    "df_scores =pd.DataFrame(scores, columns=columns)"
   ]
  },
  {
   "cell_type": "code",
   "execution_count": 85,
   "id": "52c2014f",
   "metadata": {},
   "outputs": [
    {
     "data": {
      "text/html": [
       "<div>\n",
       "<style scoped>\n",
       "    .dataframe tbody tr th:only-of-type {\n",
       "        vertical-align: middle;\n",
       "    }\n",
       "\n",
       "    .dataframe tbody tr th {\n",
       "        vertical-align: top;\n",
       "    }\n",
       "\n",
       "    .dataframe thead th {\n",
       "        text-align: right;\n",
       "    }\n",
       "</style>\n",
       "<table border=\"1\" class=\"dataframe\">\n",
       "  <thead>\n",
       "    <tr style=\"text-align: right;\">\n",
       "      <th></th>\n",
       "      <th>threshold</th>\n",
       "      <th>tp</th>\n",
       "      <th>tn</th>\n",
       "      <th>fp</th>\n",
       "      <th>fn</th>\n",
       "      <th>r</th>\n",
       "      <th>p</th>\n",
       "      <th>f1</th>\n",
       "    </tr>\n",
       "  </thead>\n",
       "  <tbody>\n",
       "    <tr>\n",
       "      <th>0</th>\n",
       "      <td>0.00</td>\n",
       "      <td>1305</td>\n",
       "      <td>0</td>\n",
       "      <td>895</td>\n",
       "      <td>0</td>\n",
       "      <td>0.593182</td>\n",
       "      <td>1.000000</td>\n",
       "      <td>0.744650</td>\n",
       "    </tr>\n",
       "    <tr>\n",
       "      <th>1</th>\n",
       "      <td>0.01</td>\n",
       "      <td>1305</td>\n",
       "      <td>0</td>\n",
       "      <td>895</td>\n",
       "      <td>0</td>\n",
       "      <td>0.593182</td>\n",
       "      <td>1.000000</td>\n",
       "      <td>0.744650</td>\n",
       "    </tr>\n",
       "    <tr>\n",
       "      <th>2</th>\n",
       "      <td>0.02</td>\n",
       "      <td>1305</td>\n",
       "      <td>0</td>\n",
       "      <td>895</td>\n",
       "      <td>0</td>\n",
       "      <td>0.593182</td>\n",
       "      <td>1.000000</td>\n",
       "      <td>0.744650</td>\n",
       "    </tr>\n",
       "    <tr>\n",
       "      <th>3</th>\n",
       "      <td>0.03</td>\n",
       "      <td>1305</td>\n",
       "      <td>0</td>\n",
       "      <td>895</td>\n",
       "      <td>0</td>\n",
       "      <td>0.593182</td>\n",
       "      <td>1.000000</td>\n",
       "      <td>0.744650</td>\n",
       "    </tr>\n",
       "    <tr>\n",
       "      <th>4</th>\n",
       "      <td>0.04</td>\n",
       "      <td>1305</td>\n",
       "      <td>0</td>\n",
       "      <td>895</td>\n",
       "      <td>0</td>\n",
       "      <td>0.593182</td>\n",
       "      <td>1.000000</td>\n",
       "      <td>0.744650</td>\n",
       "    </tr>\n",
       "    <tr>\n",
       "      <th>...</th>\n",
       "      <td>...</td>\n",
       "      <td>...</td>\n",
       "      <td>...</td>\n",
       "      <td>...</td>\n",
       "      <td>...</td>\n",
       "      <td>...</td>\n",
       "      <td>...</td>\n",
       "      <td>...</td>\n",
       "    </tr>\n",
       "    <tr>\n",
       "      <th>95</th>\n",
       "      <td>0.95</td>\n",
       "      <td>263</td>\n",
       "      <td>895</td>\n",
       "      <td>0</td>\n",
       "      <td>1042</td>\n",
       "      <td>1.000000</td>\n",
       "      <td>0.201533</td>\n",
       "      <td>0.335459</td>\n",
       "    </tr>\n",
       "    <tr>\n",
       "      <th>96</th>\n",
       "      <td>0.96</td>\n",
       "      <td>246</td>\n",
       "      <td>895</td>\n",
       "      <td>0</td>\n",
       "      <td>1059</td>\n",
       "      <td>1.000000</td>\n",
       "      <td>0.188506</td>\n",
       "      <td>0.317215</td>\n",
       "    </tr>\n",
       "    <tr>\n",
       "      <th>97</th>\n",
       "      <td>0.97</td>\n",
       "      <td>231</td>\n",
       "      <td>895</td>\n",
       "      <td>0</td>\n",
       "      <td>1074</td>\n",
       "      <td>1.000000</td>\n",
       "      <td>0.177011</td>\n",
       "      <td>0.300781</td>\n",
       "    </tr>\n",
       "    <tr>\n",
       "      <th>98</th>\n",
       "      <td>0.98</td>\n",
       "      <td>209</td>\n",
       "      <td>895</td>\n",
       "      <td>0</td>\n",
       "      <td>1096</td>\n",
       "      <td>1.000000</td>\n",
       "      <td>0.160153</td>\n",
       "      <td>0.276090</td>\n",
       "    </tr>\n",
       "    <tr>\n",
       "      <th>99</th>\n",
       "      <td>0.99</td>\n",
       "      <td>196</td>\n",
       "      <td>895</td>\n",
       "      <td>0</td>\n",
       "      <td>1109</td>\n",
       "      <td>1.000000</td>\n",
       "      <td>0.150192</td>\n",
       "      <td>0.261159</td>\n",
       "    </tr>\n",
       "  </tbody>\n",
       "</table>\n",
       "<p>100 rows × 8 columns</p>\n",
       "</div>"
      ],
      "text/plain": [
       "    threshold    tp   tn   fp    fn         r         p        f1\n",
       "0        0.00  1305    0  895     0  0.593182  1.000000  0.744650\n",
       "1        0.01  1305    0  895     0  0.593182  1.000000  0.744650\n",
       "2        0.02  1305    0  895     0  0.593182  1.000000  0.744650\n",
       "3        0.03  1305    0  895     0  0.593182  1.000000  0.744650\n",
       "4        0.04  1305    0  895     0  0.593182  1.000000  0.744650\n",
       "..        ...   ...  ...  ...   ...       ...       ...       ...\n",
       "95       0.95   263  895    0  1042  1.000000  0.201533  0.335459\n",
       "96       0.96   246  895    0  1059  1.000000  0.188506  0.317215\n",
       "97       0.97   231  895    0  1074  1.000000  0.177011  0.300781\n",
       "98       0.98   209  895    0  1096  1.000000  0.160153  0.276090\n",
       "99       0.99   196  895    0  1109  1.000000  0.150192  0.261159\n",
       "\n",
       "[100 rows x 8 columns]"
      ]
     },
     "execution_count": 85,
     "metadata": {},
     "output_type": "execute_result"
    }
   ],
   "source": [
    "df_scores"
   ]
  },
  {
   "cell_type": "code",
   "execution_count": 86,
   "id": "8db0fa72",
   "metadata": {},
   "outputs": [
    {
     "name": "stdout",
     "output_type": "stream",
     "text": [
      "Mean AUC: 0.7386440499404587\n"
     ]
    }
   ],
   "source": [
    "from sklearn.model_selection import KFold\n",
    "from sklearn.linear_model import LogisticRegression\n",
    "from sklearn.metrics import roc_auc_score\n",
    "from sklearn.feature_extraction import DictVectorizer\n",
    "\n",
    "# Assuming df_full_train is your training dataset with features and target\n",
    "\n",
    "# Define the KFold object with 5 splits, shuffling the data, and setting a random seed\n",
    "kf = KFold(n_splits=5, shuffle=True, random_state=1)\n",
    "\n",
    "# Initialize a list to store AUC scores for each fold\n",
    "auc_scores = []\n",
    "\n",
    "# Initialize DictVectorizer\n",
    "vectorizer = DictVectorizer()\n",
    "\n",
    "# Iterate over different folds of df_full_train\n",
    "for train_index, val_index in kf.split(df_full_train):\n",
    "    # Split the data into train and validation sets based on the fold indices\n",
    "    train_data, val_data = df_full_train.iloc[train_index], df_full_train.iloc[val_index]\n",
    "    \n",
    "    # Separate the features (X) and the target (y) variables for train and validation\n",
    "    X_train, y_train = train_data.drop(columns=['reached_on_time_y_n']), train_data['reached_on_time_y_n']\n",
    "    X_val, y_val = val_data.drop(columns=['reached_on_time_y_n']), val_data['reached_on_time_y_n']\n",
    "    \n",
    "    # Convert feature dataframes to dictionaries and then use DictVectorizer\n",
    "    X_train_dict = X_train.to_dict(orient='records')\n",
    "    X_val_dict = X_val.to_dict(orient='records')\n",
    "    \n",
    "    X_train_encoded = vectorizer.fit_transform(X_train_dict)\n",
    "    X_val_encoded = vectorizer.transform(X_val_dict)\n",
    "    \n",
    "    # Initialize and train the Logistic Regression model\n",
    "    model = LogisticRegression(solver='liblinear', C=1.0, max_iter=1000)\n",
    "    model.fit(X_train_encoded, y_train)\n",
    "    \n",
    "    # Predict probabilities on the validation set\n",
    "    y_pred_proba = model.predict_proba(X_val_encoded)[:, 1]\n",
    "    \n",
    "    # Calculate the AUC score and append it to the list\n",
    "    auc_score = roc_auc_score(y_val, y_pred_proba)\n",
    "    auc_scores.append(auc_score)\n",
    "\n",
    "# Calculate and print the mean AUC score across all folds\n",
    "mean_auc = sum(auc_scores) / len(auc_scores)\n",
    "print(\"Mean AUC:\", mean_auc)\n"
   ]
  },
  {
   "cell_type": "code",
   "execution_count": 87,
   "id": "06a04a67",
   "metadata": {},
   "outputs": [
    {
     "name": "stdout",
     "output_type": "stream",
     "text": [
      "C = 0.01: Mean AUC = 0.738, Std = 0.01\n",
      "C = 0.1: Mean AUC = 0.739, Std = 0.01\n",
      "C = 0.5: Mean AUC = 0.739, Std = 0.009\n",
      "C = 10: Mean AUC = 0.738, Std = 0.009\n"
     ]
    }
   ],
   "source": [
    "\n",
    "# Define the C values to iterate over\n",
    "C_values = [0.01, 0.1, 0.5, 10]\n",
    "\n",
    "# Initialize KFold with the same parameters as previously\n",
    "kf = KFold(n_splits=5, shuffle=True, random_state=1)\n",
    "\n",
    "# Initialize lists to store mean and std scores\n",
    "mean_scores = []\n",
    "std_scores = []\n",
    "\n",
    "# Iterate over different C values\n",
    "for C in C_values:\n",
    "    # Initialize a list to store AUC scores for each fold\n",
    "    auc_scores = []\n",
    "    \n",
    "    # Iterate over different folds of df_full_train\n",
    "    for train_index, val_index in kf.split(df_full_train):\n",
    "        # Split the data into train and validation sets based on the fold indices\n",
    "        train_data, val_data = df_full_train.iloc[train_index], df_full_train.iloc[val_index]\n",
    "\n",
    "        # Separate the features (X) and the target (y) variables for train and validation\n",
    "        X_train, y_train = train_data.drop(columns=['reached_on_time_y_n']), train_data['reached_on_time_y_n']\n",
    "        X_val, y_val = val_data.drop(columns=['reached_on_time_y_n']), val_data['reached_on_time_y_n']\n",
    "\n",
    "        # Convert feature dataframes to dictionaries and then use DictVectorizer\n",
    "        X_train_dict = X_train.to_dict(orient='records')\n",
    "        X_val_dict = X_val.to_dict(orient='records')\n",
    "\n",
    "        X_train_encoded = vectorizer.fit_transform(X_train_dict)\n",
    "        X_val_encoded = vectorizer.transform(X_val_dict)\n",
    "\n",
    "        # Initialize and train the Logistic Regression model with the current C value\n",
    "        model = LogisticRegression(solver='liblinear', C=C, max_iter=1000)\n",
    "        model.fit(X_train_encoded, y_train)\n",
    "\n",
    "        # Predict probabilities on the validation set\n",
    "        y_pred_proba = model.predict_proba(X_val_encoded)[:, 1]\n",
    "\n",
    "        # Calculate the AUC score and append it to the list\n",
    "        auc_score = roc_auc_score(y_val, y_pred_proba)\n",
    "        auc_scores.append(auc_score)\n",
    "    \n",
    "    # Calculate the mean and standard deviation of AUC scores for the current C value\n",
    "    mean_auc = np.mean(auc_scores)\n",
    "    std_auc = np.std(auc_scores)\n",
    "    \n",
    "    # Append the mean and std scores to the respective lists (rounded to 3 decimal digits)\n",
    "    mean_scores.append(round(mean_auc, 3))\n",
    "    std_scores.append(round(std_auc, 3))\n",
    "\n",
    "# Print the results for each C value\n",
    "for i, C in enumerate(C_values):\n",
    "    print(f\"C = {C}: Mean AUC = {mean_scores[i]}, Std = {std_scores[i]}\")\n"
   ]
  },
  {
   "cell_type": "code",
   "execution_count": 88,
   "id": "c1909433",
   "metadata": {},
   "outputs": [],
   "source": [
    "import pickle"
   ]
  },
  {
   "cell_type": "code",
   "execution_count": 91,
   "id": "caf0506a",
   "metadata": {},
   "outputs": [
    {
     "data": {
      "text/plain": [
       "'model_C=10.bin'"
      ]
     },
     "execution_count": 91,
     "metadata": {},
     "output_type": "execute_result"
    }
   ],
   "source": [
    "output_file =f'model_C={C}.bin' \n",
    "output_file"
   ]
  },
  {
   "cell_type": "code",
   "execution_count": 92,
   "id": "4d26c71e",
   "metadata": {},
   "outputs": [],
   "source": [
    "f_out = open(output_file, 'wb')\n",
    "pickle.dump((dv, model), f_out)\n",
    "f_out.close()"
   ]
  },
  {
   "cell_type": "code",
   "execution_count": null,
   "id": "df0d767f",
   "metadata": {},
   "outputs": [],
   "source": [
    "customer = {'id': 1488,\n",
    " 'warehouse_block': 'f',\n",
    " 'mode_of_shipment': 'road',\n",
    " 'customer_care_calls': 6,\n",
    " 'customer_rating': 1,\n",
    " 'cost_of_the_product': 219,\n",
    " 'prior_purchases': 6,\n",
    " 'product_importance': 'low',\n",
    " 'gender': 'f',\n",
    " 'discount_offered': 10,\n",
    " 'weight_in_gms': 2385}"
   ]
  },
  {
   "cell_type": "code",
   "execution_count": 94,
   "id": "50c6b122",
   "metadata": {},
   "outputs": [],
   "source": [
    "# load the model\n",
    "import pickle"
   ]
  },
  {
   "cell_type": "code",
   "execution_count": 95,
   "id": "6ecdbb69",
   "metadata": {},
   "outputs": [],
   "source": [
    "model_file = 'model_C=10.bin'"
   ]
  },
  {
   "cell_type": "code",
   "execution_count": 96,
   "id": "51bb13c0",
   "metadata": {},
   "outputs": [],
   "source": [
    "with open(model_file, 'rb') as f_in:\n",
    "    dv, model = pickle.load(f_in)"
   ]
  },
  {
   "cell_type": "code",
   "execution_count": 97,
   "id": "80c9a828",
   "metadata": {},
   "outputs": [
    {
     "data": {
      "text/plain": [
       "(DictVectorizer(sparse=False),\n",
       " LogisticRegression(C=10, max_iter=1000, solver='liblinear'))"
      ]
     },
     "execution_count": 97,
     "metadata": {},
     "output_type": "execute_result"
    }
   ],
   "source": [
    "dv, model"
   ]
  },
  {
   "cell_type": "code",
   "execution_count": 98,
   "id": "e96a459f",
   "metadata": {},
   "outputs": [],
   "source": [
    "customer = {'id': 1488,\n",
    " 'warehouse_block': 'f',\n",
    " 'mode_of_shipment': 'road',\n",
    " 'customer_care_calls': 6,\n",
    " 'customer_rating': 1,\n",
    " 'cost_of_the_product': 219,\n",
    " 'prior_purchases': 6,\n",
    " 'product_importance': 'low',\n",
    " 'gender': 'f',\n",
    " 'discount_offered': 10,\n",
    " 'weight_in_gms': 2385}"
   ]
  },
  {
   "cell_type": "code",
   "execution_count": 99,
   "id": "2d901fc2",
   "metadata": {},
   "outputs": [],
   "source": [
    " X =dv.transform([customer])"
   ]
  },
  {
   "cell_type": "code",
   "execution_count": 100,
   "id": "a2d3f004",
   "metadata": {},
   "outputs": [
    {
     "data": {
      "text/plain": [
       "0.7806860490755715"
      ]
     },
     "execution_count": 100,
     "metadata": {},
     "output_type": "execute_result"
    }
   ],
   "source": [
    " model.predict_proba(X)[0,1]"
   ]
  },
  {
   "cell_type": "code",
   "execution_count": null,
   "id": "2bfeaf70",
   "metadata": {},
   "outputs": [],
   "source": []
  }
 ],
 "metadata": {
  "kernelspec": {
   "display_name": "Python 3 (ipykernel)",
   "language": "python",
   "name": "python3"
  },
  "language_info": {
   "codemirror_mode": {
    "name": "ipython",
    "version": 3
   },
   "file_extension": ".py",
   "mimetype": "text/x-python",
   "name": "python",
   "nbconvert_exporter": "python",
   "pygments_lexer": "ipython3",
   "version": "3.9.13"
  }
 },
 "nbformat": 4,
 "nbformat_minor": 5
}
