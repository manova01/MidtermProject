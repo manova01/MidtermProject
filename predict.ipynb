{
 "cells": [
  {
   "cell_type": "code",
   "execution_count": 10,
   "id": "7575531b",
   "metadata": {},
   "outputs": [],
   "source": [
    "# load the model\n",
    "import pickle"
   ]
  },
  {
   "cell_type": "code",
   "execution_count": 11,
   "id": "b8920ff4",
   "metadata": {},
   "outputs": [],
   "source": [
    "model_file = 'model_C=10.bin'"
   ]
  },
  {
   "cell_type": "code",
   "execution_count": 17,
   "id": "f31c2a5f",
   "metadata": {},
   "outputs": [],
   "source": [
    "with open(model_file, 'rb') as f_in:\n",
    "    dv, model = pickle.load(f_in)"
   ]
  },
  {
   "cell_type": "code",
   "execution_count": 18,
   "id": "d2f4fc79",
   "metadata": {},
   "outputs": [
    {
     "data": {
      "text/plain": [
       "(DictVectorizer(sparse=False),\n",
       " LogisticRegression(C=10, max_iter=1000, solver='liblinear'))"
      ]
     },
     "execution_count": 18,
     "metadata": {},
     "output_type": "execute_result"
    }
   ],
   "source": [
    "dv, model"
   ]
  },
  {
   "cell_type": "code",
   "execution_count": 25,
   "id": "f1240211",
   "metadata": {},
   "outputs": [],
   "source": [
    "customer = {'id': 1488,\n",
    " 'warehouse_block': 'f',\n",
    " 'mode_of_shipment': 'road',\n",
    " 'customer_care_calls': 6,\n",
    " 'customer_rating': 1,\n",
    " 'cost_of_the_product': 219,\n",
    " 'prior_purchases': 6,\n",
    " 'product_importance': 'low',\n",
    " 'gender': 'f',\n",
    " 'discount_offered': 10,\n",
    " 'weight_in_gms': 2385}"
   ]
  },
  {
   "cell_type": "code",
   "execution_count": 26,
   "id": "cad7376d",
   "metadata": {},
   "outputs": [],
   "source": [
    " X =dv.transform([customer])"
   ]
  },
  {
   "cell_type": "code",
   "execution_count": 27,
   "id": "6fe01f71",
   "metadata": {},
   "outputs": [
    {
     "data": {
      "text/plain": [
       "0.7806860490755715"
      ]
     },
     "execution_count": 27,
     "metadata": {},
     "output_type": "execute_result"
    }
   ],
   "source": [
    " model.predict_proba(X)[0,1]"
   ]
  },
  {
   "cell_type": "code",
   "execution_count": null,
   "id": "26785980",
   "metadata": {},
   "outputs": [],
   "source": []
  }
 ],
 "metadata": {
  "kernelspec": {
   "display_name": "Python 3 (ipykernel)",
   "language": "python",
   "name": "python3"
  },
  "language_info": {
   "codemirror_mode": {
    "name": "ipython",
    "version": 3
   },
   "file_extension": ".py",
   "mimetype": "text/x-python",
   "name": "python",
   "nbconvert_exporter": "python",
   "pygments_lexer": "ipython3",
   "version": "3.9.13"
  }
 },
 "nbformat": 4,
 "nbformat_minor": 5
}
